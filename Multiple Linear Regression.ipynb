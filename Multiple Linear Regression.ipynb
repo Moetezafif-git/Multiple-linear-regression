{
 "cells": [
  {
   "cell_type": "markdown",
   "id": "95278022",
   "metadata": {},
   "source": [
    "# Multiple Linear Regression"
   ]
  },
  {
   "cell_type": "code",
   "execution_count": 1,
   "id": "b8227d9f",
   "metadata": {},
   "outputs": [],
   "source": [
    "import numpy as np\n",
    "from sklearn.datasets import make_regression \n",
    "import matplotlib.pyplot as plt"
   ]
  },
  {
   "cell_type": "markdown",
   "id": "3affeae6",
   "metadata": {},
   "source": [
    "## 1) Dataset"
   ]
  },
  {
   "cell_type": "code",
   "execution_count": 2,
   "id": "35f545f4",
   "metadata": {},
   "outputs": [],
   "source": [
    "x, y = make_regression(n_samples=100, n_features=1,noise=10)\n",
    "y= y+abs(y/2)"
   ]
  },
  {
   "cell_type": "code",
   "execution_count": 3,
   "id": "f1f16264",
   "metadata": {},
   "outputs": [
    {
     "data": {
      "text/plain": [
       "<matplotlib.collections.PathCollection at 0x1fc1c5cda30>"
      ]
     },
     "execution_count": 3,
     "metadata": {},
     "output_type": "execute_result"
    },
    {
     "data": {
      "image/png": "[encoded data removed]",
      "text/plain": [
       "<Figure size 640x480 with 1 Axes>"
      ]
     },
     "metadata": {},
     "output_type": "display_data"
    }
   ],
   "source": [
    "plt.scatter(x,y)"
   ]
  },
  {
   "cell_type": "code",
   "execution_count": 4,
   "id": "83a5839d",
   "metadata": {},
   "outputs": [],
   "source": [
    "y=y.reshape(y.shape[0],1)"
   ]
  },
  {
   "cell_type": "code",
   "execution_count": 5,
   "id": "62c3576b",
   "metadata": {},
   "outputs": [
    {
     "data": {
      "text/plain": [
       "array([[-4.28800373e+01],\n",
       "       [-1.54879060e+01],\n",
       "       [ 1.28294030e+02],\n",
       "       [ 7.94988138e+01],\n",
       "       [-3.34894880e+00],\n",
       "       [-3.41162004e+01],\n",
       "       [-2.12531353e+01],\n",
       "       [ 9.30114566e+01],\n",
       "       [ 1.06808222e+01],\n",
       "       [ 1.22228783e+02],\n",
       "       [ 2.87061225e+02],\n",
       "       [ 1.57781449e+01],\n",
       "       [-3.14371616e+01],\n",
       "       [ 3.60480770e+01],\n",
       "       [-1.76180633e+01],\n",
       "       [ 5.54048099e+01],\n",
       "       [ 1.49507078e+02],\n",
       "       [ 4.35852637e+01],\n",
       "       [ 1.68661903e+01],\n",
       "       [ 7.70215657e+01],\n",
       "       [-1.55148539e+01],\n",
       "       [-4.56802309e+01],\n",
       "       [ 1.90350989e+02],\n",
       "       [-9.73392299e+00],\n",
       "       [ 1.27435650e+02],\n",
       "       [-2.08449676e+01],\n",
       "       [ 6.88695626e+01],\n",
       "       [ 1.68696885e+02],\n",
       "       [ 1.28039224e+02],\n",
       "       [ 8.19233690e+01],\n",
       "       [-1.27606572e+01],\n",
       "       [ 3.18862268e+01],\n",
       "       [ 1.50391842e+02],\n",
       "       [ 2.84807489e+01],\n",
       "       [-4.53037737e+00],\n",
       "       [-8.58094974e+01],\n",
       "       [ 8.31882828e+00],\n",
       "       [ 1.80861838e+01],\n",
       "       [ 6.67263109e+01],\n",
       "       [ 1.00680561e+02],\n",
       "       [-5.80179898e+00],\n",
       "       [-1.83623456e+01],\n",
       "       [-6.28896536e+00],\n",
       "       [-2.51802395e+01],\n",
       "       [-3.32688937e+01],\n",
       "       [ 7.73276882e+01],\n",
       "       [-3.98747393e+01],\n",
       "       [ 2.15879517e+02],\n",
       "       [ 4.19215280e+01],\n",
       "       [ 1.36676411e+02],\n",
       "       [-5.83287337e+00],\n",
       "       [-3.34021451e+00],\n",
       "       [-1.11755428e+01],\n",
       "       [ 8.91590979e+01],\n",
       "       [ 1.98864406e+01],\n",
       "       [ 9.87638597e+01],\n",
       "       [ 1.62970508e+02],\n",
       "       [-6.29016636e+01],\n",
       "       [ 1.23831291e+02],\n",
       "       [ 9.73470312e+01],\n",
       "       [ 1.69949831e+02],\n",
       "       [-2.78577314e+01],\n",
       "       [ 6.82825325e+00],\n",
       "       [-1.76677546e+01],\n",
       "       [-1.25162168e+01],\n",
       "       [ 5.43787634e+01],\n",
       "       [-2.04973500e+01],\n",
       "       [ 1.10495251e+02],\n",
       "       [ 1.08837709e+02],\n",
       "       [ 2.71261539e+01],\n",
       "       [-3.23906120e+01],\n",
       "       [ 9.26761603e+01],\n",
       "       [ 2.51201966e+02],\n",
       "       [-2.92855273e+01],\n",
       "       [-5.41844347e+00],\n",
       "       [-2.42190077e+01],\n",
       "       [ 1.49748951e+02],\n",
       "       [ 1.46766864e+02],\n",
       "       [ 7.81842891e+01],\n",
       "       [-2.26578336e-02],\n",
       "       [-3.69952024e+01],\n",
       "       [-6.29283391e+00],\n",
       "       [ 5.76398565e+01],\n",
       "       [-6.22369009e+01],\n",
       "       [ 5.90431611e+01],\n",
       "       [ 5.12277911e+01],\n",
       "       [ 1.95242178e+01],\n",
       "       [ 1.78090144e+02],\n",
       "       [ 1.50532186e+02],\n",
       "       [-2.23543100e+00],\n",
       "       [ 2.21637947e+01],\n",
       "       [-5.11875525e+01],\n",
       "       [ 2.22321996e+01],\n",
       "       [ 1.36882334e+02],\n",
       "       [-7.54993440e+00],\n",
       "       [-4.01094487e+01],\n",
       "       [-1.95209127e+01],\n",
       "       [-4.99941547e+01],\n",
       "       [ 2.16999442e+02],\n",
       "       [-1.92874454e+01]])"
      ]
     },
     "execution_count": 5,
     "metadata": {},
     "output_type": "execute_result"
    }
   ],
   "source": [
    "y"
   ]
  },
  {
   "cell_type": "code",
   "execution_count": 6,
   "id": "e70ba6c3",
   "metadata": {},
   "outputs": [
    {
     "name": "stdout",
     "output_type": "stream",
     "text": [
      "(100, 1)\n",
      "(100, 1)\n"
     ]
    }
   ],
   "source": [
    "print(x.shape)\n",
    "print(y.shape)"
   ]
  },
  {
   "cell_type": "code",
   "execution_count": 7,
   "id": "11544b1e",
   "metadata": {
    "scrolled": false
   },
   "outputs": [],
   "source": [
    "X= np.hstack((x**2,x,np.ones(x.shape)))\n"
   ]
  },
  {
   "cell_type": "code",
   "execution_count": 8,
   "id": "44b88685",
   "metadata": {
    "scrolled": true
   },
   "outputs": [
    {
     "data": {
      "text/plain": [
       "array([[-1.00417025],\n",
       "       [-0.19853991],\n",
       "       [ 1.05108771]])"
      ]
     },
     "execution_count": 8,
     "metadata": {},
     "output_type": "execute_result"
    }
   ],
   "source": [
    "theta = np.random.randn(3,1)\n",
    "\n",
    "theta"
   ]
  },
  {
   "cell_type": "markdown",
   "id": "cb093871",
   "metadata": {},
   "source": [
    "## 2) Modele Linéaire"
   ]
  },
  {
   "cell_type": "code",
   "execution_count": 9,
   "id": "bcee820e",
   "metadata": {},
   "outputs": [],
   "source": [
    "def model(X,theta):\n",
    "    return X.dot(theta)\n"
   ]
  },
  {
   "cell_type": "code",
   "execution_count": 10,
   "id": "c7fc8859",
   "metadata": {
    "scrolled": true
   },
   "outputs": [
    {
     "data": {
      "text/plain": [
       "<matplotlib.collections.PathCollection at 0x1fc1c63aa30>"
      ]
     },
     "execution_count": 10,
     "metadata": {},
     "output_type": "execute_result"
    },
    {
     "data": {
      "image/png": "[encoded data removed]",
      "text/plain": [
       "<Figure size 640x480 with 1 Axes>"
      ]
     },
     "metadata": {},
     "output_type": "display_data"
    }
   ],
   "source": [
    "plt.scatter(x,y)\n",
    "plt.scatter(x,model(X,theta),c=\"r\")"
   ]
  },
  {
   "cell_type": "markdown",
   "id": "392fd2d4",
   "metadata": {},
   "source": [
    "## 3) Cost Function : EQR"
   ]
  },
  {
   "cell_type": "code",
   "execution_count": 11,
   "id": "ed5d53b2",
   "metadata": {},
   "outputs": [],
   "source": [
    "def cost_function(x,y,theta):\n",
    "    m= len(y)\n",
    "    return 1/(2*m) * np.sum((model(x, theta) - y )**2)"
   ]
  },
  {
   "cell_type": "code",
   "execution_count": 12,
   "id": "fe1e17f1",
   "metadata": {},
   "outputs": [
    {
     "data": {
      "text/plain": [
       "4089.5211194902677"
      ]
     },
     "execution_count": 12,
     "metadata": {},
     "output_type": "execute_result"
    }
   ],
   "source": [
    "cost_function(X,y,theta)"
   ]
  },
  {
   "cell_type": "markdown",
   "id": "07395c0e",
   "metadata": {},
   "source": [
    "## 4) Gradient et descente de gradient"
   ]
  },
  {
   "cell_type": "code",
   "execution_count": 13,
   "id": "228a468b",
   "metadata": {},
   "outputs": [],
   "source": [
    "def grad(X,y,theta):\n",
    "    m= len(y)\n",
    "    return 1/m * X.T.dot( model(X,theta)- y)"
   ]
  },
  {
   "cell_type": "code",
   "execution_count": 14,
   "id": "85e7ccf8",
   "metadata": {},
   "outputs": [],
   "source": [
    "def gradient_descent(X,y,theta, learning_rate,n_iterations):\n",
    "    cost_history = np.zeros(n_iterations)\n",
    "    for i in range(0,n_iterations):\n",
    "        theta = theta - learning_rate * grad(X,y,theta)\n",
    "        cost_history[i]= cost_function(X,y,theta)\n",
    "    \n",
    "    return theta,cost_history"
   ]
  },
  {
   "cell_type": "markdown",
   "id": "9c1c7211",
   "metadata": {},
   "source": [
    "##  5) Machine Learning\n"
   ]
  },
  {
   "cell_type": "code",
   "execution_count": 15,
   "id": "0ef1b3eb",
   "metadata": {},
   "outputs": [],
   "source": [
    "theta_final,cost_history = gradient_descent(X,y,theta,learning_rate=0.01,n_iterations=1100)"
   ]
  },
  {
   "cell_type": "code",
   "execution_count": 16,
   "id": "42dfe76e",
   "metadata": {
    "scrolled": false
   },
   "outputs": [
    {
     "data": {
      "text/plain": [
       "array([[12.66260439],\n",
       "       [72.75906515],\n",
       "       [18.10583919]])"
      ]
     },
     "execution_count": 16,
     "metadata": {},
     "output_type": "execute_result"
    }
   ],
   "source": [
    "theta_final"
   ]
  },
  {
   "cell_type": "code",
   "execution_count": 17,
   "id": "7303d128",
   "metadata": {},
   "outputs": [
    {
     "data": {
      "text/plain": [
       "<matplotlib.collections.PathCollection at 0x1fc1c6aff10>"
      ]
     },
     "execution_count": 17,
     "metadata": {},
     "output_type": "execute_result"
    },
    {
     "data": {
      "image/png": "[encoded data removed]",
      "text/plain": [
       "<Figure size 640x480 with 1 Axes>"
      ]
     },
     "metadata": {},
     "output_type": "display_data"
    }
   ],
   "source": [
    "prediction = model(X,theta_final)\n",
    "plt.scatter(x,y)\n",
    "plt.scatter(x,prediction, c = \"r\")"
   ]
  },
  {
   "cell_type": "markdown",
   "id": "5ce599ce",
   "metadata": {},
   "source": [
    "## 6) Courbes d'apprentissage"
   ]
  },
  {
   "cell_type": "code",
   "execution_count": 18,
   "id": "1fdc2082",
   "metadata": {},
   "outputs": [
    {
     "data": {
      "text/plain": [
       "[<matplotlib.lines.Line2D at 0x1fc1c71ee20>]"
      ]
     },
     "execution_count": 18,
     "metadata": {},
     "output_type": "execute_result"
    },
    {
     "data": {
      "image/png": "[encoded data removed]",
      "text/plain": [
       "<Figure size 640x480 with 1 Axes>"
      ]
     },
     "metadata": {},
     "output_type": "display_data"
    }
   ],
   "source": [
    "plt.plot(range(1100),cost_history)"
   ]
  },
  {
   "cell_type": "markdown",
   "id": "e0b17252",
   "metadata": {},
   "source": [
    " ## 7) Evaluation finale"
   ]
  },
  {
   "cell_type": "code",
   "execution_count": 19,
   "id": "45e63d78",
   "metadata": {},
   "outputs": [],
   "source": [
    "def coef_determination(y,pred):\n",
    "    u= ((y-pred)**2).sum()\n",
    "    v=((y-y.mean())**2).sum()\n",
    "    return 1- u/v"
   ]
  },
  {
   "cell_type": "code",
   "execution_count": 20,
   "id": "b34d59b7",
   "metadata": {
    "scrolled": true
   },
   "outputs": [
    {
     "data": {
      "text/plain": [
       "0.971779948437377"
      ]
     },
     "execution_count": 20,
     "metadata": {},
     "output_type": "execute_result"
    }
   ],
   "source": [
    "coef_determination(y,pred=prediction)"
   ]
  }
 ],
 "metadata": {
  "kernelspec": {
   "display_name": "Python 3 (ipykernel)",
   "language": "python",
   "name": "python3"
  },
  "language_info": {
   "codemirror_mode": {
    "name": "ipython",
    "version": 3
   },
   "file_extension": ".py",
   "mimetype": "text/x-python",
   "name": "python",
   "nbconvert_exporter": "python",
   "pygments_lexer": "ipython3",
   "version": "3.9.13"
  }
 },
 "nbformat": 4,
 "nbformat_minor": 5
}
